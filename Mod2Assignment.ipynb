{
 "cells": [
  {
   "cell_type": "code",
   "execution_count": 35,
   "id": "1a70611d-5607-408c-ba8c-cb7d8e932d0c",
   "metadata": {},
   "outputs": [
    {
     "name": "stdout",
     "output_type": "stream",
     "text": [
      "Too High\n"
     ]
    }
   ],
   "source": [
    "#4.1\n",
    "secret = 4\n",
    "guess =  5\n",
    "if guess < secret:\n",
    "    print(\"Too Low\")\n",
    "elif guess > secret:\n",
    "    print(\"Too High\")\n",
    "elif guess == secret: \n",
    "    print(\"Correct!\")\n",
    "    "
   ]
  },
  {
   "cell_type": "code",
   "execution_count": 37,
   "id": "95ba2635-613c-4e31-a5ab-6aafc7723b00",
   "metadata": {},
   "outputs": [
    {
     "name": "stdout",
     "output_type": "stream",
     "text": [
      "it is a pea\n"
     ]
    }
   ],
   "source": [
    "#4.2\n",
    "small = True\n",
    "green = True\n",
    "\n",
    "if small:\n",
    "    if green:\n",
    "        print(\"it is a pea\")\n",
    "    else:\n",
    "        print(\"its a cherry\")\n",
    "else:\n",
    "    if green: \n",
    "        print(\"its a watermelon\")\n",
    "    else:\n",
    "        print(\"its a pumpkin\")\n",
    "        "
   ]
  },
  {
   "cell_type": "code",
   "execution_count": 39,
   "id": "1ecc9253-a811-41da-b9ec-1bfe9b0b9d9c",
   "metadata": {},
   "outputs": [
    {
     "name": "stdout",
     "output_type": "stream",
     "text": [
      "3\n",
      "2\n",
      "1\n",
      "0\n"
     ]
    }
   ],
   "source": [
    "#6.1\n",
    "for x in range(3,-1,-1):\n",
    "    print(x)\n"
   ]
  },
  {
   "cell_type": "code",
   "execution_count": 58,
   "id": "6d3f0d6b-9f75-42dd-8551-e38b80624e18",
   "metadata": {},
   "outputs": [
    {
     "name": "stdout",
     "output_type": "stream",
     "text": [
      "1 too low\n",
      "2 too low\n",
      "3 too low\n",
      "4 too low\n",
      "5 too low\n",
      "6 too low\n",
      "7 found it!\n"
     ]
    }
   ],
   "source": [
    "#6.2\n",
    "guess_me = 7\n",
    "number=1\n",
    "while number < guess_me:\n",
    "    \n",
    "    print(number, \"too low\"),\n",
    "    number += 1\n",
    "    \n",
    "else:\n",
    "    print(number, \"found it!\")"
   ]
  },
  {
   "cell_type": "code",
   "execution_count": 62,
   "id": "5301c6f6-aa05-4233-bc90-bd6b73238252",
   "metadata": {},
   "outputs": [
    {
     "name": "stdout",
     "output_type": "stream",
     "text": [
      "0 too low\n",
      "1 too low\n",
      "2 too low\n",
      "3 too low\n",
      "4 too low\n",
      "5 found it!\n"
     ]
    }
   ],
   "source": [
    "#6.3\n",
    "guess_me= 5\n",
    "for number in range(10):\n",
    "    if number < guess_me:\n",
    "        print(number, \"too low\")\n",
    "    elif number > guess_me:\n",
    "        print(number, \"oops\")\n",
    "    else: break\n",
    "print(number, \"found it!\")\n",
    "    \n",
    "    "
   ]
  },
  {
   "cell_type": "code",
   "execution_count": null,
   "id": "e1658edc-7aeb-489f-83bb-a362741481b3",
   "metadata": {},
   "outputs": [],
   "source": []
  }
 ],
 "metadata": {
  "kernelspec": {
   "display_name": "Python 3 (ipykernel)",
   "language": "python",
   "name": "python3"
  },
  "language_info": {
   "codemirror_mode": {
    "name": "ipython",
    "version": 3
   },
   "file_extension": ".py",
   "mimetype": "text/x-python",
   "name": "python",
   "nbconvert_exporter": "python",
   "pygments_lexer": "ipython3",
   "version": "3.12.4"
  }
 },
 "nbformat": 4,
 "nbformat_minor": 5
}
